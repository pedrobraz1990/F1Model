{
 "cells": [
  {
   "cell_type": "code",
   "execution_count": 113,
   "metadata": {
    "collapsed": false
   },
   "outputs": [
    {
     "name": "stdout",
     "output_type": "stream",
     "text": [
      "The autotime extension is already loaded. To reload it, use:\n",
      "  %reload_ext autotime\n",
      "time: 13.8 ms\n"
     ]
    }
   ],
   "source": [
    "%matplotlib inline\n",
    "\n",
    "import datetime as dt\n",
    "import numpy as np\n",
    "import pandas as pd\n",
    "\n",
    "import urllib.request\n",
    "import json\n",
    "\n",
    "from keras.models import Sequential\n",
    "from keras.layers.core import Dense, Activation\n",
    "from keras.utils import np_utils\n",
    "\n",
    "%load_ext autotime\n",
    "%load_ext snakeviz"
   ]
  },
  {
   "cell_type": "code",
   "execution_count": 2,
   "metadata": {
    "collapsed": false
   },
   "outputs": [],
   "source": [
    "url = 'http://ergast.com/api/f1/2017/results.json?limit=100000000'\n",
    "with urllib.request.urlopen(url) as response:\n",
    "    encoding = response.info().get_content_charset('utf8')\n",
    "    data = json.loads(response.read().decode(encoding))"
   ]
  },
  {
   "cell_type": "code",
   "execution_count": 3,
   "metadata": {
    "collapsed": false
   },
   "outputs": [
    {
     "data": {
      "text/plain": [
       "dict_keys(['xmlns', 'series', 'url', 'limit', 'offset', 'total', 'RaceTable'])"
      ]
     },
     "execution_count": 3,
     "metadata": {},
     "output_type": "execute_result"
    }
   ],
   "source": [
    "data[\"MRData\"].keys()"
   ]
  },
  {
   "cell_type": "code",
   "execution_count": 4,
   "metadata": {
    "collapsed": false
   },
   "outputs": [
    {
     "data": {
      "text/plain": [
       "dict_keys(['season', 'round', 'url', 'raceName', 'Circuit', 'date', 'time', 'Results'])"
      ]
     },
     "execution_count": 4,
     "metadata": {},
     "output_type": "execute_result"
    }
   ],
   "source": [
    "data[\"MRData\"][\"RaceTable\"][\"Races\"][0].keys()"
   ]
  },
  {
   "cell_type": "code",
   "execution_count": 5,
   "metadata": {
    "collapsed": false
   },
   "outputs": [
    {
     "data": {
      "text/plain": [
       "[{'Constructor': {'constructorId': 'ferrari',\n",
       "   'name': 'Ferrari',\n",
       "   'nationality': 'Italian',\n",
       "   'url': 'http://en.wikipedia.org/wiki/Scuderia_Ferrari'},\n",
       "  'Driver': {'code': 'VET',\n",
       "   'dateOfBirth': '1987-07-03',\n",
       "   'driverId': 'vettel',\n",
       "   'familyName': 'Vettel',\n",
       "   'givenName': 'Sebastian',\n",
       "   'nationality': 'German',\n",
       "   'permanentNumber': '5',\n",
       "   'url': 'http://en.wikipedia.org/wiki/Sebastian_Vettel'},\n",
       "  'FastestLap': {'AverageSpeed': {'speed': '220.351', 'units': 'kph'},\n",
       "   'Time': {'time': '1:26.638'},\n",
       "   'lap': '53',\n",
       "   'rank': '3'},\n",
       "  'Time': {'millis': '5051672', 'time': '1:24:11.672'},\n",
       "  'grid': '2',\n",
       "  'laps': '57',\n",
       "  'number': '5',\n",
       "  'points': '25',\n",
       "  'position': '1',\n",
       "  'positionText': '1',\n",
       "  'status': 'Finished'},\n",
       " {'Constructor': {'constructorId': 'mercedes',\n",
       "   'name': 'Mercedes',\n",
       "   'nationality': 'German',\n",
       "   'url': 'http://en.wikipedia.org/wiki/Mercedes-Benz_in_Formula_One'},\n",
       "  'Driver': {'code': 'HAM',\n",
       "   'dateOfBirth': '1985-01-07',\n",
       "   'driverId': 'hamilton',\n",
       "   'familyName': 'Hamilton',\n",
       "   'givenName': 'Lewis',\n",
       "   'nationality': 'British',\n",
       "   'permanentNumber': '44',\n",
       "   'url': 'http://en.wikipedia.org/wiki/Lewis_Hamilton'},\n",
       "  'FastestLap': {'AverageSpeed': {'speed': '219.351', 'units': 'kph'},\n",
       "   'Time': {'time': '1:27.033'},\n",
       "   'lap': '44',\n",
       "   'rank': '6'},\n",
       "  'Time': {'millis': '5061647', 'time': '+9.975'},\n",
       "  'grid': '1',\n",
       "  'laps': '57',\n",
       "  'number': '44',\n",
       "  'points': '18',\n",
       "  'position': '2',\n",
       "  'positionText': '2',\n",
       "  'status': 'Finished'},\n",
       " {'Constructor': {'constructorId': 'mercedes',\n",
       "   'name': 'Mercedes',\n",
       "   'nationality': 'German',\n",
       "   'url': 'http://en.wikipedia.org/wiki/Mercedes-Benz_in_Formula_One'},\n",
       "  'Driver': {'code': 'BOT',\n",
       "   'dateOfBirth': '1989-08-28',\n",
       "   'driverId': 'bottas',\n",
       "   'familyName': 'Bottas',\n",
       "   'givenName': 'Valtteri',\n",
       "   'nationality': 'Finnish',\n",
       "   'permanentNumber': '77',\n",
       "   'url': 'http://en.wikipedia.org/wiki/Valtteri_Bottas'},\n",
       "  'FastestLap': {'AverageSpeed': {'speed': '220.465', 'units': 'kph'},\n",
       "   'Time': {'time': '1:26.593'},\n",
       "   'lap': '56',\n",
       "   'rank': '2'},\n",
       "  'Time': {'millis': '5062922', 'time': '+11.250'},\n",
       "  'grid': '3',\n",
       "  'laps': '57',\n",
       "  'number': '77',\n",
       "  'points': '15',\n",
       "  'position': '3',\n",
       "  'positionText': '3',\n",
       "  'status': 'Finished'},\n",
       " {'Constructor': {'constructorId': 'ferrari',\n",
       "   'name': 'Ferrari',\n",
       "   'nationality': 'Italian',\n",
       "   'url': 'http://en.wikipedia.org/wiki/Scuderia_Ferrari'},\n",
       "  'Driver': {'code': 'RAI',\n",
       "   'dateOfBirth': '1979-10-17',\n",
       "   'driverId': 'raikkonen',\n",
       "   'familyName': 'Räikkönen',\n",
       "   'givenName': 'Kimi',\n",
       "   'nationality': 'Finnish',\n",
       "   'permanentNumber': '7',\n",
       "   'url': 'http://en.wikipedia.org/wiki/Kimi_R%C3%A4ikk%C3%B6nen'},\n",
       "  'FastestLap': {'AverageSpeed': {'speed': '220.605', 'units': 'kph'},\n",
       "   'Time': {'time': '1:26.538'},\n",
       "   'lap': '56',\n",
       "   'rank': '1'},\n",
       "  'Time': {'millis': '5074065', 'time': '+22.393'},\n",
       "  'grid': '4',\n",
       "  'laps': '57',\n",
       "  'number': '7',\n",
       "  'points': '12',\n",
       "  'position': '4',\n",
       "  'positionText': '4',\n",
       "  'status': 'Finished'},\n",
       " {'Constructor': {'constructorId': 'red_bull',\n",
       "   'name': 'Red Bull',\n",
       "   'nationality': 'Austrian',\n",
       "   'url': 'http://en.wikipedia.org/wiki/Red_Bull_Racing'},\n",
       "  'Driver': {'code': 'VER',\n",
       "   'dateOfBirth': '1997-09-30',\n",
       "   'driverId': 'max_verstappen',\n",
       "   'familyName': 'Verstappen',\n",
       "   'givenName': 'Max',\n",
       "   'nationality': 'Dutch',\n",
       "   'permanentNumber': '33',\n",
       "   'url': 'http://en.wikipedia.org/wiki/Max_Verstappen'},\n",
       "  'FastestLap': {'AverageSpeed': {'speed': '219.525', 'units': 'kph'},\n",
       "   'Time': {'time': '1:26.964'},\n",
       "   'lap': '43',\n",
       "   'rank': '5'},\n",
       "  'Time': {'millis': '5080499', 'time': '+28.827'},\n",
       "  'grid': '5',\n",
       "  'laps': '57',\n",
       "  'number': '33',\n",
       "  'points': '10',\n",
       "  'position': '5',\n",
       "  'positionText': '5',\n",
       "  'status': 'Finished'},\n",
       " {'Constructor': {'constructorId': 'williams',\n",
       "   'name': 'Williams',\n",
       "   'nationality': 'British',\n",
       "   'url': 'http://en.wikipedia.org/wiki/Williams_Grand_Prix_Engineering'},\n",
       "  'Driver': {'code': 'MAS',\n",
       "   'dateOfBirth': '1981-04-25',\n",
       "   'driverId': 'massa',\n",
       "   'familyName': 'Massa',\n",
       "   'givenName': 'Felipe',\n",
       "   'nationality': 'Brazilian',\n",
       "   'permanentNumber': '19',\n",
       "   'url': 'http://en.wikipedia.org/wiki/Felipe_Massa'},\n",
       "  'FastestLap': {'AverageSpeed': {'speed': '216.830', 'units': 'kph'},\n",
       "   'Time': {'time': '1:28.045'},\n",
       "   'lap': '49',\n",
       "   'rank': '9'},\n",
       "  'Time': {'millis': '5135058', 'time': '+1:23.386'},\n",
       "  'grid': '7',\n",
       "  'laps': '57',\n",
       "  'number': '19',\n",
       "  'points': '8',\n",
       "  'position': '6',\n",
       "  'positionText': '6',\n",
       "  'status': 'Finished'},\n",
       " {'Constructor': {'constructorId': 'force_india',\n",
       "   'name': 'Force India',\n",
       "   'nationality': 'Indian',\n",
       "   'url': 'http://en.wikipedia.org/wiki/Force_India'},\n",
       "  'Driver': {'code': 'PER',\n",
       "   'dateOfBirth': '1990-01-26',\n",
       "   'driverId': 'perez',\n",
       "   'familyName': 'Pérez',\n",
       "   'givenName': 'Sergio',\n",
       "   'nationality': 'Mexican',\n",
       "   'permanentNumber': '11',\n",
       "   'url': 'http://en.wikipedia.org/wiki/Sergio_P%C3%A9rez'},\n",
       "  'FastestLap': {'AverageSpeed': {'speed': '216.115', 'units': 'kph'},\n",
       "   'Time': {'time': '1:28.336'},\n",
       "   'lap': '56',\n",
       "   'rank': '10'},\n",
       "  'grid': '10',\n",
       "  'laps': '56',\n",
       "  'number': '11',\n",
       "  'points': '6',\n",
       "  'position': '7',\n",
       "  'positionText': '7',\n",
       "  'status': '+1 Lap'},\n",
       " {'Constructor': {'constructorId': 'toro_rosso',\n",
       "   'name': 'Toro Rosso',\n",
       "   'nationality': 'Italian',\n",
       "   'url': 'http://en.wikipedia.org/wiki/Scuderia_Toro_Rosso'},\n",
       "  'Driver': {'code': 'SAI',\n",
       "   'dateOfBirth': '1994-09-01',\n",
       "   'driverId': 'sainz',\n",
       "   'familyName': 'Sainz',\n",
       "   'givenName': 'Carlos',\n",
       "   'nationality': 'Spanish',\n",
       "   'permanentNumber': '55',\n",
       "   'url': 'http://en.wikipedia.org/wiki/Carlos_Sainz_Jr.'},\n",
       "  'FastestLap': {'AverageSpeed': {'speed': '217.740', 'units': 'kph'},\n",
       "   'Time': {'time': '1:27.677'},\n",
       "   'lap': '53',\n",
       "   'rank': '8'},\n",
       "  'grid': '8',\n",
       "  'laps': '56',\n",
       "  'number': '55',\n",
       "  'points': '4',\n",
       "  'position': '8',\n",
       "  'positionText': '8',\n",
       "  'status': '+1 Lap'},\n",
       " {'Constructor': {'constructorId': 'toro_rosso',\n",
       "   'name': 'Toro Rosso',\n",
       "   'nationality': 'Italian',\n",
       "   'url': 'http://en.wikipedia.org/wiki/Scuderia_Toro_Rosso'},\n",
       "  'Driver': {'code': 'KVY',\n",
       "   'dateOfBirth': '1994-04-26',\n",
       "   'driverId': 'kvyat',\n",
       "   'familyName': 'Kvyat',\n",
       "   'givenName': 'Daniil',\n",
       "   'nationality': 'Russian',\n",
       "   'permanentNumber': '26',\n",
       "   'url': 'http://en.wikipedia.org/wiki/Daniil_Kvyat'},\n",
       "  'FastestLap': {'AverageSpeed': {'speed': '220.165', 'units': 'kph'},\n",
       "   'Time': {'time': '1:26.711'},\n",
       "   'lap': '51',\n",
       "   'rank': '4'},\n",
       "  'grid': '9',\n",
       "  'laps': '56',\n",
       "  'number': '26',\n",
       "  'points': '2',\n",
       "  'position': '9',\n",
       "  'positionText': '9',\n",
       "  'status': '+1 Lap'},\n",
       " {'Constructor': {'constructorId': 'force_india',\n",
       "   'name': 'Force India',\n",
       "   'nationality': 'Indian',\n",
       "   'url': 'http://en.wikipedia.org/wiki/Force_India'},\n",
       "  'Driver': {'code': 'OCO',\n",
       "   'dateOfBirth': '1996-09-17',\n",
       "   'driverId': 'ocon',\n",
       "   'familyName': 'Ocon',\n",
       "   'givenName': 'Esteban',\n",
       "   'nationality': 'French',\n",
       "   'permanentNumber': '31',\n",
       "   'url': 'http://en.wikipedia.org/wiki/Esteban_Ocon'},\n",
       "  'FastestLap': {'AverageSpeed': {'speed': '215.776', 'units': 'kph'},\n",
       "   'Time': {'time': '1:28.475'},\n",
       "   'lap': '55',\n",
       "   'rank': '11'},\n",
       "  'grid': '13',\n",
       "  'laps': '56',\n",
       "  'number': '31',\n",
       "  'points': '1',\n",
       "  'position': '10',\n",
       "  'positionText': '10',\n",
       "  'status': '+1 Lap'},\n",
       " {'Constructor': {'constructorId': 'renault',\n",
       "   'name': 'Renault',\n",
       "   'nationality': 'French',\n",
       "   'url': 'http://en.wikipedia.org/wiki/Renault_F1'},\n",
       "  'Driver': {'code': 'HUL',\n",
       "   'dateOfBirth': '1987-08-19',\n",
       "   'driverId': 'hulkenberg',\n",
       "   'familyName': 'Hülkenberg',\n",
       "   'givenName': 'Nico',\n",
       "   'nationality': 'German',\n",
       "   'permanentNumber': '27',\n",
       "   'url': 'http://en.wikipedia.org/wiki/Nico_H%C3%BClkenberg'},\n",
       "  'FastestLap': {'AverageSpeed': {'speed': '215.749', 'units': 'kph'},\n",
       "   'Time': {'time': '1:28.486'},\n",
       "   'lap': '55',\n",
       "   'rank': '12'},\n",
       "  'grid': '11',\n",
       "  'laps': '56',\n",
       "  'number': '27',\n",
       "  'points': '0',\n",
       "  'position': '11',\n",
       "  'positionText': '11',\n",
       "  'status': '+1 Lap'},\n",
       " {'Constructor': {'constructorId': 'sauber',\n",
       "   'name': 'Sauber',\n",
       "   'nationality': 'Swiss',\n",
       "   'url': 'http://en.wikipedia.org/wiki/Sauber'},\n",
       "  'Driver': {'code': 'GIO',\n",
       "   'dateOfBirth': '1993-12-14',\n",
       "   'driverId': 'giovinazzi',\n",
       "   'familyName': 'Giovinazzi',\n",
       "   'givenName': 'Antonio',\n",
       "   'nationality': 'Italian',\n",
       "   'permanentNumber': '36',\n",
       "   'url': 'http://en.wikipedia.org/wiki/Antonio_Giovinazzi'},\n",
       "  'FastestLap': {'AverageSpeed': {'speed': '214.378', 'units': 'kph'},\n",
       "   'Time': {'time': '1:29.052'},\n",
       "   'lap': '51',\n",
       "   'rank': '13'},\n",
       "  'grid': '16',\n",
       "  'laps': '55',\n",
       "  'number': '36',\n",
       "  'points': '0',\n",
       "  'position': '12',\n",
       "  'positionText': '12',\n",
       "  'status': '+2 Laps'},\n",
       " {'Constructor': {'constructorId': 'mclaren',\n",
       "   'name': 'McLaren',\n",
       "   'nationality': 'British',\n",
       "   'url': 'http://en.wikipedia.org/wiki/McLaren'},\n",
       "  'Driver': {'code': 'VAN',\n",
       "   'dateOfBirth': '1992-03-26',\n",
       "   'driverId': 'vandoorne',\n",
       "   'familyName': 'Vandoorne',\n",
       "   'givenName': 'Stoffel',\n",
       "   'nationality': 'Belgian',\n",
       "   'permanentNumber': '2',\n",
       "   'url': 'http://en.wikipedia.org/wiki/Stoffel_Vandoorne'},\n",
       "  'FastestLap': {'AverageSpeed': {'speed': '213.448', 'units': 'kph'},\n",
       "   'Time': {'time': '1:29.440'},\n",
       "   'lap': '53',\n",
       "   'rank': '15'},\n",
       "  'grid': '18',\n",
       "  'laps': '55',\n",
       "  'number': '2',\n",
       "  'points': '0',\n",
       "  'position': '13',\n",
       "  'positionText': '13',\n",
       "  'status': '+2 Laps'},\n",
       " {'Constructor': {'constructorId': 'mclaren',\n",
       "   'name': 'McLaren',\n",
       "   'nationality': 'British',\n",
       "   'url': 'http://en.wikipedia.org/wiki/McLaren'},\n",
       "  'Driver': {'code': 'ALO',\n",
       "   'dateOfBirth': '1981-07-29',\n",
       "   'driverId': 'alonso',\n",
       "   'familyName': 'Alonso',\n",
       "   'givenName': 'Fernando',\n",
       "   'nationality': 'Spanish',\n",
       "   'permanentNumber': '14',\n",
       "   'url': 'http://en.wikipedia.org/wiki/Fernando_Alonso'},\n",
       "  'FastestLap': {'AverageSpeed': {'speed': '211.938', 'units': 'kph'},\n",
       "   'Time': {'time': '1:30.077'},\n",
       "   'lap': '48',\n",
       "   'rank': '17'},\n",
       "  'grid': '12',\n",
       "  'laps': '50',\n",
       "  'number': '14',\n",
       "  'points': '0',\n",
       "  'position': '14',\n",
       "  'positionText': 'R',\n",
       "  'status': 'Vibrations'},\n",
       " {'Constructor': {'constructorId': 'haas',\n",
       "   'name': 'Haas F1 Team',\n",
       "   'nationality': 'American',\n",
       "   'url': 'http://en.wikipedia.org/wiki/Haas_F1_Team'},\n",
       "  'Driver': {'code': 'MAG',\n",
       "   'dateOfBirth': '1992-10-05',\n",
       "   'driverId': 'kevin_magnussen',\n",
       "   'familyName': 'Magnussen',\n",
       "   'givenName': 'Kevin',\n",
       "   'nationality': 'Danish',\n",
       "   'permanentNumber': '20',\n",
       "   'url': 'http://en.wikipedia.org/wiki/Kevin_Magnussen'},\n",
       "  'FastestLap': {'AverageSpeed': {'speed': '218.011', 'units': 'kph'},\n",
       "   'Time': {'time': '1:27.568'},\n",
       "   'lap': '46',\n",
       "   'rank': '7'},\n",
       "  'grid': '17',\n",
       "  'laps': '46',\n",
       "  'number': '20',\n",
       "  'points': '0',\n",
       "  'position': '15',\n",
       "  'positionText': 'R',\n",
       "  'status': 'Suspension'},\n",
       " {'Constructor': {'constructorId': 'williams',\n",
       "   'name': 'Williams',\n",
       "   'nationality': 'British',\n",
       "   'url': 'http://en.wikipedia.org/wiki/Williams_Grand_Prix_Engineering'},\n",
       "  'Driver': {'code': 'STR',\n",
       "   'dateOfBirth': '1998-10-29',\n",
       "   'driverId': 'stroll',\n",
       "   'familyName': 'Stroll',\n",
       "   'givenName': 'Lance',\n",
       "   'nationality': 'Canadian',\n",
       "   'permanentNumber': '18',\n",
       "   'url': 'http://en.wikipedia.org/wiki/Lance_Stroll'},\n",
       "  'FastestLap': {'AverageSpeed': {'speed': '213.569', 'units': 'kph'},\n",
       "   'Time': {'time': '1:29.389'},\n",
       "   'lap': '38',\n",
       "   'rank': '14'},\n",
       "  'grid': '20',\n",
       "  'laps': '40',\n",
       "  'number': '18',\n",
       "  'points': '0',\n",
       "  'position': '16',\n",
       "  'positionText': 'R',\n",
       "  'status': 'Brakes'},\n",
       " {'Constructor': {'constructorId': 'red_bull',\n",
       "   'name': 'Red Bull',\n",
       "   'nationality': 'Austrian',\n",
       "   'url': 'http://en.wikipedia.org/wiki/Red_Bull_Racing'},\n",
       "  'Driver': {'code': 'RIC',\n",
       "   'dateOfBirth': '1989-07-01',\n",
       "   'driverId': 'ricciardo',\n",
       "   'familyName': 'Ricciardo',\n",
       "   'givenName': 'Daniel',\n",
       "   'nationality': 'Australian',\n",
       "   'permanentNumber': '3',\n",
       "   'url': 'http://en.wikipedia.org/wiki/Daniel_Ricciardo'},\n",
       "  'FastestLap': {'AverageSpeed': {'speed': '213.431', 'units': 'kph'},\n",
       "   'Time': {'time': '1:29.447'},\n",
       "   'lap': '21',\n",
       "   'rank': '16'},\n",
       "  'grid': '0',\n",
       "  'laps': '25',\n",
       "  'number': '3',\n",
       "  'points': '0',\n",
       "  'position': '17',\n",
       "  'positionText': 'R',\n",
       "  'status': 'Power Unit'},\n",
       " {'Constructor': {'constructorId': 'sauber',\n",
       "   'name': 'Sauber',\n",
       "   'nationality': 'Swiss',\n",
       "   'url': 'http://en.wikipedia.org/wiki/Sauber'},\n",
       "  'Driver': {'code': 'ERI',\n",
       "   'dateOfBirth': '1990-09-02',\n",
       "   'driverId': 'ericsson',\n",
       "   'familyName': 'Ericsson',\n",
       "   'givenName': 'Marcus',\n",
       "   'nationality': 'Swedish',\n",
       "   'permanentNumber': '9',\n",
       "   'url': 'http://en.wikipedia.org/wiki/Marcus_Ericsson'},\n",
       "  'FastestLap': {'AverageSpeed': {'speed': '207.391', 'units': 'kph'},\n",
       "   'Time': {'time': '1:32.052'},\n",
       "   'lap': '18',\n",
       "   'rank': '19'},\n",
       "  'grid': '14',\n",
       "  'laps': '21',\n",
       "  'number': '9',\n",
       "  'points': '0',\n",
       "  'position': '18',\n",
       "  'positionText': 'R',\n",
       "  'status': 'Hydraulics'},\n",
       " {'Constructor': {'constructorId': 'renault',\n",
       "   'name': 'Renault',\n",
       "   'nationality': 'French',\n",
       "   'url': 'http://en.wikipedia.org/wiki/Renault_F1'},\n",
       "  'Driver': {'code': 'PAL',\n",
       "   'dateOfBirth': '1991-01-20',\n",
       "   'driverId': 'jolyon_palmer',\n",
       "   'familyName': 'Palmer',\n",
       "   'givenName': 'Jolyon',\n",
       "   'nationality': 'British',\n",
       "   'permanentNumber': '30',\n",
       "   'url': 'http://en.wikipedia.org/wiki/Jolyon_Palmer'},\n",
       "  'FastestLap': {'AverageSpeed': {'speed': '207.069', 'units': 'kph'},\n",
       "   'Time': {'time': '1:32.195'},\n",
       "   'lap': '6',\n",
       "   'rank': '20'},\n",
       "  'grid': '19',\n",
       "  'laps': '15',\n",
       "  'number': '30',\n",
       "  'points': '0',\n",
       "  'position': '19',\n",
       "  'positionText': 'R',\n",
       "  'status': 'Brakes'},\n",
       " {'Constructor': {'constructorId': 'haas',\n",
       "   'name': 'Haas F1 Team',\n",
       "   'nationality': 'American',\n",
       "   'url': 'http://en.wikipedia.org/wiki/Haas_F1_Team'},\n",
       "  'Driver': {'code': 'GRO',\n",
       "   'dateOfBirth': '1986-04-17',\n",
       "   'driverId': 'grosjean',\n",
       "   'familyName': 'Grosjean',\n",
       "   'givenName': 'Romain',\n",
       "   'nationality': 'French',\n",
       "   'permanentNumber': '8',\n",
       "   'url': 'http://en.wikipedia.org/wiki/Romain_Grosjean'},\n",
       "  'FastestLap': {'AverageSpeed': {'speed': '211.689', 'units': 'kph'},\n",
       "   'Time': {'time': '1:30.183'},\n",
       "   'lap': '12',\n",
       "   'rank': '18'},\n",
       "  'grid': '6',\n",
       "  'laps': '13',\n",
       "  'number': '8',\n",
       "  'points': '0',\n",
       "  'position': '20',\n",
       "  'positionText': 'R',\n",
       "  'status': 'Water leak'}]"
      ]
     },
     "execution_count": 5,
     "metadata": {},
     "output_type": "execute_result"
    }
   ],
   "source": [
    "data[\"MRData\"][\"RaceTable\"][\"Races\"][0][\"Results\"]"
   ]
  },
  {
   "cell_type": "code",
   "execution_count": 6,
   "metadata": {
    "collapsed": false
   },
   "outputs": [
    {
     "data": {
      "text/html": [
       "<div>\n",
       "<table border=\"1\" class=\"dataframe\">\n",
       "  <thead>\n",
       "    <tr style=\"text-align: right;\">\n",
       "      <th></th>\n",
       "      <th>Constructor</th>\n",
       "      <th>Driver</th>\n",
       "      <th>FastestLap</th>\n",
       "      <th>Time</th>\n",
       "      <th>grid</th>\n",
       "      <th>laps</th>\n",
       "      <th>number</th>\n",
       "      <th>points</th>\n",
       "      <th>position</th>\n",
       "      <th>positionText</th>\n",
       "      <th>status</th>\n",
       "    </tr>\n",
       "  </thead>\n",
       "  <tbody>\n",
       "    <tr>\n",
       "      <th>0</th>\n",
       "      <td>{'constructorId': 'ferrari', 'url': 'http://en...</td>\n",
       "      <td>{'driverId': 'vettel', 'permanentNumber': '5',...</td>\n",
       "      <td>{'rank': '3', 'lap': '53', 'Time': {'time': '1...</td>\n",
       "      <td>{'millis': '5051672', 'time': '1:24:11.672'}</td>\n",
       "      <td>2</td>\n",
       "      <td>57</td>\n",
       "      <td>5</td>\n",
       "      <td>25</td>\n",
       "      <td>1</td>\n",
       "      <td>1</td>\n",
       "      <td>Finished</td>\n",
       "    </tr>\n",
       "  </tbody>\n",
       "</table>\n",
       "</div>"
      ],
      "text/plain": [
       "                                         Constructor  \\\n",
       "0  {'constructorId': 'ferrari', 'url': 'http://en...   \n",
       "\n",
       "                                              Driver  \\\n",
       "0  {'driverId': 'vettel', 'permanentNumber': '5',...   \n",
       "\n",
       "                                          FastestLap  \\\n",
       "0  {'rank': '3', 'lap': '53', 'Time': {'time': '1...   \n",
       "\n",
       "                                           Time grid laps number points  \\\n",
       "0  {'millis': '5051672', 'time': '1:24:11.672'}    2   57      5     25   \n",
       "\n",
       "  position positionText    status  \n",
       "0        1            1  Finished  "
      ]
     },
     "execution_count": 6,
     "metadata": {},
     "output_type": "execute_result"
    }
   ],
   "source": [
    "pd.DataFrame(data[\"MRData\"][\"RaceTable\"][\"Races\"][0][\"Results\"]).head(1)"
   ]
  },
  {
   "cell_type": "code",
   "execution_count": 7,
   "metadata": {
    "collapsed": true
   },
   "outputs": [],
   "source": [
    "def constructor_to_name(dic):\n",
    "    return dic[\"name\"]\n",
    "\n",
    "def driver_to_name(dic):\n",
    "    return dic[\"familyName\"]\n",
    "\n",
    "def date_to_year(date):\n",
    "    date = dt.datetime.strptime(date, '%Y-%m-%d')\n",
    "    return date.year"
   ]
  },
  {
   "cell_type": "code",
   "execution_count": 15,
   "metadata": {
    "collapsed": false
   },
   "outputs": [],
   "source": [
    "listOfRaces = []\n",
    "\n",
    "for seasonYear in range(2005,2018):\n",
    "    \n",
    "    url = 'http://ergast.com/api/f1/{seasonYear}/results.json?limit=100000000'.format(seasonYear=seasonYear)\n",
    "    with urllib.request.urlopen(url) as response:\n",
    "        encoding = response.info().get_content_charset('utf8')\n",
    "        data = json.loads(response.read().decode(encoding))\n",
    "\n",
    "    for race in data[\"MRData\"][\"RaceTable\"][\"Races\"]:\n",
    "\n",
    "        year = race['season']\n",
    "        circuit = race[\"Circuit\"][\"circuitName\"]\n",
    "\n",
    "#         print(\"{Year} - {Circuit}\".format(Year=year,Circuit=circuit))\n",
    "\n",
    "        df = pd.DataFrame(race[\"Results\"])\n",
    "        df[\"Constructor\"] = df[\"Constructor\"].apply(constructor_to_name)\n",
    "        df[\"Driver\"] = df[\"Driver\"].apply(driver_to_name)\n",
    "        df[\"Circuit\"] = circuit\n",
    "        df[\"Year\"] = year\n",
    "        listOfRaces.append(df.copy())"
   ]
  },
  {
   "cell_type": "code",
   "execution_count": 17,
   "metadata": {
    "collapsed": false
   },
   "outputs": [],
   "source": [
    "results = pd.concat(listOfRaces)"
   ]
  },
  {
   "cell_type": "code",
   "execution_count": 18,
   "metadata": {
    "collapsed": false
   },
   "outputs": [
    {
     "data": {
      "text/html": [
       "<div>\n",
       "<table border=\"1\" class=\"dataframe\">\n",
       "  <thead>\n",
       "    <tr style=\"text-align: right;\">\n",
       "      <th></th>\n",
       "      <th>Circuit</th>\n",
       "      <th>Constructor</th>\n",
       "      <th>Driver</th>\n",
       "      <th>FastestLap</th>\n",
       "      <th>Time</th>\n",
       "      <th>Year</th>\n",
       "      <th>grid</th>\n",
       "      <th>laps</th>\n",
       "      <th>number</th>\n",
       "      <th>points</th>\n",
       "      <th>position</th>\n",
       "      <th>positionText</th>\n",
       "      <th>status</th>\n",
       "    </tr>\n",
       "  </thead>\n",
       "  <tbody>\n",
       "    <tr>\n",
       "      <th>0</th>\n",
       "      <td>Albert Park Grand Prix Circuit</td>\n",
       "      <td>Renault</td>\n",
       "      <td>Fisichella</td>\n",
       "      <td>{'rank': '2', 'lap': '55', 'Time': {'time': '1...</td>\n",
       "      <td>{'millis': '5057336', 'time': '1:24:17.336'}</td>\n",
       "      <td>2005</td>\n",
       "      <td>1</td>\n",
       "      <td>57</td>\n",
       "      <td>6</td>\n",
       "      <td>10</td>\n",
       "      <td>1</td>\n",
       "      <td>1</td>\n",
       "      <td>Finished</td>\n",
       "    </tr>\n",
       "    <tr>\n",
       "      <th>1</th>\n",
       "      <td>Albert Park Grand Prix Circuit</td>\n",
       "      <td>Ferrari</td>\n",
       "      <td>Barrichello</td>\n",
       "      <td>{'rank': '3', 'lap': '54', 'Time': {'time': '1...</td>\n",
       "      <td>{'millis': '5062889', 'time': '+5.553'}</td>\n",
       "      <td>2005</td>\n",
       "      <td>11</td>\n",
       "      <td>57</td>\n",
       "      <td>2</td>\n",
       "      <td>8</td>\n",
       "      <td>2</td>\n",
       "      <td>2</td>\n",
       "      <td>Finished</td>\n",
       "    </tr>\n",
       "    <tr>\n",
       "      <th>2</th>\n",
       "      <td>Albert Park Grand Prix Circuit</td>\n",
       "      <td>Renault</td>\n",
       "      <td>Alonso</td>\n",
       "      <td>{'rank': '1', 'lap': '24', 'Time': {'time': '1...</td>\n",
       "      <td>{'millis': '5064048', 'time': '+6.712'}</td>\n",
       "      <td>2005</td>\n",
       "      <td>13</td>\n",
       "      <td>57</td>\n",
       "      <td>5</td>\n",
       "      <td>6</td>\n",
       "      <td>3</td>\n",
       "      <td>3</td>\n",
       "      <td>Finished</td>\n",
       "    </tr>\n",
       "    <tr>\n",
       "      <th>3</th>\n",
       "      <td>Albert Park Grand Prix Circuit</td>\n",
       "      <td>Red Bull</td>\n",
       "      <td>Coulthard</td>\n",
       "      <td>{'rank': '11', 'lap': '40', 'Time': {'time': '...</td>\n",
       "      <td>{'millis': '5073467', 'time': '+16.131'}</td>\n",
       "      <td>2005</td>\n",
       "      <td>5</td>\n",
       "      <td>57</td>\n",
       "      <td>14</td>\n",
       "      <td>5</td>\n",
       "      <td>4</td>\n",
       "      <td>4</td>\n",
       "      <td>Finished</td>\n",
       "    </tr>\n",
       "    <tr>\n",
       "      <th>4</th>\n",
       "      <td>Albert Park Grand Prix Circuit</td>\n",
       "      <td>Williams</td>\n",
       "      <td>Webber</td>\n",
       "      <td>{'rank': '8', 'lap': '37', 'Time': {'time': '1...</td>\n",
       "      <td>{'millis': '5074244', 'time': '+16.908'}</td>\n",
       "      <td>2005</td>\n",
       "      <td>3</td>\n",
       "      <td>57</td>\n",
       "      <td>7</td>\n",
       "      <td>4</td>\n",
       "      <td>5</td>\n",
       "      <td>5</td>\n",
       "      <td>Finished</td>\n",
       "    </tr>\n",
       "  </tbody>\n",
       "</table>\n",
       "</div>"
      ],
      "text/plain": [
       "                          Circuit Constructor       Driver  \\\n",
       "0  Albert Park Grand Prix Circuit     Renault   Fisichella   \n",
       "1  Albert Park Grand Prix Circuit     Ferrari  Barrichello   \n",
       "2  Albert Park Grand Prix Circuit     Renault       Alonso   \n",
       "3  Albert Park Grand Prix Circuit    Red Bull    Coulthard   \n",
       "4  Albert Park Grand Prix Circuit    Williams       Webber   \n",
       "\n",
       "                                          FastestLap  \\\n",
       "0  {'rank': '2', 'lap': '55', 'Time': {'time': '1...   \n",
       "1  {'rank': '3', 'lap': '54', 'Time': {'time': '1...   \n",
       "2  {'rank': '1', 'lap': '24', 'Time': {'time': '1...   \n",
       "3  {'rank': '11', 'lap': '40', 'Time': {'time': '...   \n",
       "4  {'rank': '8', 'lap': '37', 'Time': {'time': '1...   \n",
       "\n",
       "                                           Time  Year grid laps number points  \\\n",
       "0  {'millis': '5057336', 'time': '1:24:17.336'}  2005    1   57      6     10   \n",
       "1       {'millis': '5062889', 'time': '+5.553'}  2005   11   57      2      8   \n",
       "2       {'millis': '5064048', 'time': '+6.712'}  2005   13   57      5      6   \n",
       "3      {'millis': '5073467', 'time': '+16.131'}  2005    5   57     14      5   \n",
       "4      {'millis': '5074244', 'time': '+16.908'}  2005    3   57      7      4   \n",
       "\n",
       "  position positionText    status  \n",
       "0        1            1  Finished  \n",
       "1        2            2  Finished  \n",
       "2        3            3  Finished  \n",
       "3        4            4  Finished  \n",
       "4        5            5  Finished  "
      ]
     },
     "execution_count": 18,
     "metadata": {},
     "output_type": "execute_result"
    }
   ],
   "source": [
    "results.head()"
   ]
  },
  {
   "cell_type": "code",
   "execution_count": 20,
   "metadata": {
    "collapsed": false
   },
   "outputs": [
    {
     "data": {
      "text/plain": [
       "array(['Finished', '+1 Lap', '+2 Laps', '+4 Laps', 'Accident', 'Gearbox',\n",
       "       '+3 Laps', 'Tyre', 'Collision', 'Spun off', 'Engine', 'Suspension',\n",
       "       'Clutch', 'Brakes', 'Hydraulics', 'Electrical', 'Driveshaft',\n",
       "       'Disqualified', 'Wheel rim', 'Puncture', '+5 Laps', 'Withdrew',\n",
       "       'Fuel pressure', '+12 Laps', '+7 Laps', '+11 Laps', 'Engine fire',\n",
       "       'Retired', 'Mechanical', '+26 Laps', 'Tyre puncture',\n",
       "       'Out of fuel', 'Wheel nut', 'Transmission', 'Steering',\n",
       "       'Broken wing', 'Electronics', 'Heat shield fire', 'Exhaust',\n",
       "       'Oil leak', 'Technical', 'Water leak', 'Fuel pump', 'Track rod',\n",
       "       '+17 Laps', 'Oil pressure', 'Pneumatics', 'Throttle', 'Front wing',\n",
       "       'Water pressure', 'Refuelling', 'Wheel', 'Radiator', 'Overheating',\n",
       "       'Driver Seat', 'Differential', 'Injured', '+10 Laps', '+6 Laps',\n",
       "       '+9 Laps', 'Rear wing', 'Did not qualify', '+42 Laps',\n",
       "       'Engine misfire', 'Injury', '+14 Laps', 'Vibrations', 'Alternator',\n",
       "       'Collision damage', 'Fuel system', '+8 Laps', 'ERS', 'Power Unit',\n",
       "       'Turbo', 'Drivetrain', 'Power loss', 'Brake duct', 'Excluded',\n",
       "       'Battery', 'Seat', 'Spark plugs'], dtype=object)"
      ]
     },
     "execution_count": 20,
     "metadata": {},
     "output_type": "execute_result"
    }
   ],
   "source": [
    "results[\"status\"].unique()"
   ]
  },
  {
   "cell_type": "markdown",
   "metadata": {},
   "source": [
    "# First Version - Types of problems"
   ]
  },
  {
   "cell_type": "code",
   "execution_count": 21,
   "metadata": {
    "collapsed": true
   },
   "outputs": [],
   "source": [
    "results1 = results.copy()"
   ]
  },
  {
   "cell_type": "code",
   "execution_count": 31,
   "metadata": {
    "collapsed": true
   },
   "outputs": [],
   "source": [
    "results1 = results1[(results1[\"status\"] != \"Injured\") & (results1[\"status\"] != \"Did not qualify\")]"
   ]
  },
  {
   "cell_type": "code",
   "execution_count": 33,
   "metadata": {
    "collapsed": true
   },
   "outputs": [],
   "source": [
    "listFinished = [\n",
    "    \"Finished\",\n",
    "    \"+1 Lap\",\n",
    "    \"+2 Laps\",\n",
    "    \"+4 Laps\",\n",
    "    \"+3 Laps\",\n",
    "    \"+5 Laps\",\n",
    "    \"+12 Laps\",\n",
    "    \"+7 Laps\",\n",
    "    \"+11 Laps\",\n",
    "    \"+26 Laps\",\n",
    "    \"+17 Laps\",\n",
    "    \"+10 Laps\",\n",
    "    \"+6 Laps\",\n",
    "    \"+9 Laps\",\n",
    "    \"+42 Laps\",\n",
    "    \"+14 Laps\",\n",
    "    \"+8 Laps\",\n",
    "]\n",
    "\n",
    "results1.replace(listFinished,value=\"Finished\",inplace=True)"
   ]
  },
  {
   "cell_type": "code",
   "execution_count": 42,
   "metadata": {
    "collapsed": false
   },
   "outputs": [
    {
     "name": "stderr",
     "output_type": "stream",
     "text": [
      "/Users/PedroBraz2/anaconda/lib/python3.6/site-packages/ipykernel/__main__.py:2: SettingWithCopyWarning: \n",
      "A value is trying to be set on a copy of a slice from a DataFrame\n",
      "\n",
      "See the caveats in the documentation: http://pandas.pydata.org/pandas-docs/stable/indexing.html#indexing-view-versus-copy\n",
      "  from ipykernel import kernelapp as app\n",
      "/Users/PedroBraz2/anaconda/lib/python3.6/site-packages/pandas/core/generic.py:4702: SettingWithCopyWarning: \n",
      "A value is trying to be set on a copy of a slice from a DataFrame\n",
      "\n",
      "See the caveats in the documentation: http://pandas.pydata.org/pandas-docs/stable/indexing.html#indexing-view-versus-copy\n",
      "  self._update_inplace(new_data)\n",
      "/Users/PedroBraz2/anaconda/lib/python3.6/site-packages/IPython/core/interactiveshell.py:2885: SettingWithCopyWarning: \n",
      "A value is trying to be set on a copy of a slice from a DataFrame\n",
      "\n",
      "See the caveats in the documentation: http://pandas.pydata.org/pandas-docs/stable/indexing.html#indexing-view-versus-copy\n",
      "  exec(code_obj, self.user_global_ns, self.user_ns)\n",
      "/Users/PedroBraz2/anaconda/lib/python3.6/site-packages/ipykernel/__main__.py:3: SettingWithCopyWarning: \n",
      "A value is trying to be set on a copy of a slice from a DataFrame.\n",
      "Try using .loc[row_indexer,col_indexer] = value instead\n",
      "\n",
      "See the caveats in the documentation: http://pandas.pydata.org/pandas-docs/stable/indexing.html#indexing-view-versus-copy\n",
      "  app.launch_new_instance()\n"
     ]
    }
   ],
   "source": [
    "statuss = results1[\"status\"]\n",
    "statuss[statuss != \"Finished\"] = \"DNF\"\n",
    "results1[\"status\"] = statuss"
   ]
  },
  {
   "cell_type": "code",
   "execution_count": 56,
   "metadata": {
    "collapsed": false
   },
   "outputs": [
    {
     "data": {
      "text/html": [
       "<div>\n",
       "<table border=\"1\" class=\"dataframe\">\n",
       "  <thead>\n",
       "    <tr style=\"text-align: right;\">\n",
       "      <th></th>\n",
       "      <th>Circuit</th>\n",
       "      <th>Constructor</th>\n",
       "      <th>Driver</th>\n",
       "      <th>Year</th>\n",
       "      <th>status</th>\n",
       "    </tr>\n",
       "  </thead>\n",
       "  <tbody>\n",
       "    <tr>\n",
       "      <th>0</th>\n",
       "      <td>Albert Park Grand Prix Circuit</td>\n",
       "      <td>Renault</td>\n",
       "      <td>Fisichella</td>\n",
       "      <td>2005</td>\n",
       "      <td>Finished</td>\n",
       "    </tr>\n",
       "    <tr>\n",
       "      <th>1</th>\n",
       "      <td>Albert Park Grand Prix Circuit</td>\n",
       "      <td>Ferrari</td>\n",
       "      <td>Barrichello</td>\n",
       "      <td>2005</td>\n",
       "      <td>Finished</td>\n",
       "    </tr>\n",
       "    <tr>\n",
       "      <th>2</th>\n",
       "      <td>Albert Park Grand Prix Circuit</td>\n",
       "      <td>Renault</td>\n",
       "      <td>Alonso</td>\n",
       "      <td>2005</td>\n",
       "      <td>Finished</td>\n",
       "    </tr>\n",
       "    <tr>\n",
       "      <th>3</th>\n",
       "      <td>Albert Park Grand Prix Circuit</td>\n",
       "      <td>Red Bull</td>\n",
       "      <td>Coulthard</td>\n",
       "      <td>2005</td>\n",
       "      <td>Finished</td>\n",
       "    </tr>\n",
       "    <tr>\n",
       "      <th>4</th>\n",
       "      <td>Albert Park Grand Prix Circuit</td>\n",
       "      <td>Williams</td>\n",
       "      <td>Webber</td>\n",
       "      <td>2005</td>\n",
       "      <td>Finished</td>\n",
       "    </tr>\n",
       "  </tbody>\n",
       "</table>\n",
       "</div>"
      ],
      "text/plain": [
       "                          Circuit Constructor       Driver  Year    status\n",
       "0  Albert Park Grand Prix Circuit     Renault   Fisichella  2005  Finished\n",
       "1  Albert Park Grand Prix Circuit     Ferrari  Barrichello  2005  Finished\n",
       "2  Albert Park Grand Prix Circuit     Renault       Alonso  2005  Finished\n",
       "3  Albert Park Grand Prix Circuit    Red Bull    Coulthard  2005  Finished\n",
       "4  Albert Park Grand Prix Circuit    Williams       Webber  2005  Finished"
      ]
     },
     "execution_count": 56,
     "metadata": {},
     "output_type": "execute_result"
    }
   ],
   "source": [
    "xcols = [\n",
    "    \"Circuit\",\n",
    "    \"Constructor\",\n",
    "    \"Driver\",\n",
    "    \"Year\",\n",
    "]\n",
    "\n",
    "ycols = [\n",
    "    \"status\",\n",
    "]\n",
    "\n",
    "results1 = results1[xcols+ycols]\n",
    "\n",
    "results1.head()"
   ]
  },
  {
   "cell_type": "code",
   "execution_count": 45,
   "metadata": {
    "collapsed": false
   },
   "outputs": [],
   "source": [
    "results1[\"Year\"] = pd.to_numeric(results1[\"Year\"])"
   ]
  },
  {
   "cell_type": "code",
   "execution_count": 92,
   "metadata": {
    "collapsed": false
   },
   "outputs": [
    {
     "name": "stdout",
     "output_type": "stream",
     "text": [
      "time: 33.4 ms\n"
     ]
    }
   ],
   "source": [
    "sieve = 2015\n",
    "\n",
    "results1_dummies = pd.get_dummies(results1)\n",
    "\n",
    "training_data = results1_dummies.loc[results1[\"Year\"] <= sieve]\n",
    "test_data = results1_dummies.loc[results1[\"Year\"] > sieve]\n",
    "\n",
    "X_training = training_data[results1_dummies.columns[:-2]]\n",
    "y_training = training_data[results1_dummies.columns[-2:]]\n",
    "X_test = test_data[results1_dummies.columns[:-2]]\n",
    "y_test = test_data[results1_dummies.columns[-2:]]"
   ]
  },
  {
   "cell_type": "code",
   "execution_count": 132,
   "metadata": {
    "collapsed": false
   },
   "outputs": [
    {
     "name": "stdout",
     "output_type": "stream",
     "text": [
      "time: 85.1 ms\n"
     ]
    }
   ],
   "source": [
    "model = Sequential()\n",
    "\n",
    "# input should have 132\n",
    "model.add(Dense(512 * 4, input_shape=(141,)))\n",
    "model.add(Activation('sigmoid'))\n",
    "\n",
    "# output should have 10 (0-9)\n",
    "model.add(Dense(2))\n",
    "model.add(Activation('softmax'))\n",
    "\n",
    "model.compile(optimizer='adam', loss='categorical_crossentropy', metrics=[\"accuracy\"])"
   ]
  },
  {
   "cell_type": "code",
   "execution_count": 133,
   "metadata": {
    "collapsed": false
   },
   "outputs": [
    {
     "name": "stdout",
     "output_type": "stream",
     "text": [
      "time: 6.6 s\n"
     ]
    }
   ],
   "source": [
    "model.fit(X_training, y_training, epochs=10, batch_size=50, verbose=0);"
   ]
  },
  {
   "cell_type": "code",
   "execution_count": 134,
   "metadata": {
    "collapsed": false
   },
   "outputs": [
    {
     "name": "stdout",
     "output_type": "stream",
     "text": [
      "Accuracy = 0.7923\n",
      "time: 166 ms\n"
     ]
    }
   ],
   "source": [
    "loss, accuracy = model.evaluate(X_test, y_test, verbose=0)\n",
    "print(\"Accuracy = {:.4f}\".format(accuracy))"
   ]
  },
  {
   "cell_type": "code",
   "execution_count": 135,
   "metadata": {
    "collapsed": false
   },
   "outputs": [
    {
     "name": "stdout",
     "output_type": "stream",
     "text": [
      "time: 328 ms\n"
     ]
    }
   ],
   "source": [
    "predictions_prob = pd.DataFrame(model.predict(X_training))"
   ]
  },
  {
   "cell_type": "code",
   "execution_count": 138,
   "metadata": {
    "collapsed": false
   },
   "outputs": [
    {
     "data": {
      "text/plain": [
       "<matplotlib.axes._subplots.AxesSubplot at 0x149740908>"
      ]
     },
     "execution_count": 138,
     "metadata": {},
     "output_type": "execute_result"
    },
    {
     "data": {
      "image/png": "[encoded data removed]",
      "text/plain": [
       "<matplotlib.figure.Figure at 0x149740240>"
      ]
     },
     "metadata": {},
     "output_type": "display_data"
    },
    {
     "name": "stdout",
     "output_type": "stream",
     "text": [
      "time: 360 ms\n"
     ]
    }
   ],
   "source": [
    "predictions_prob[0].plot()"
   ]
  },
  {
   "cell_type": "code",
   "execution_count": 137,
   "metadata": {
    "collapsed": false
   },
   "outputs": [
    {
     "data": {
      "text/html": [
       "<div>\n",
       "<table border=\"1\" class=\"dataframe\">\n",
       "  <thead>\n",
       "    <tr style=\"text-align: right;\">\n",
       "      <th></th>\n",
       "      <th>0</th>\n",
       "      <th>1</th>\n",
       "    </tr>\n",
       "  </thead>\n",
       "  <tbody>\n",
       "    <tr>\n",
       "      <th>0</th>\n",
       "      <td>0.273115</td>\n",
       "      <td>0.726886</td>\n",
       "    </tr>\n",
       "    <tr>\n",
       "      <th>1</th>\n",
       "      <td>0.273105</td>\n",
       "      <td>0.726895</td>\n",
       "    </tr>\n",
       "    <tr>\n",
       "      <th>2</th>\n",
       "      <td>0.273109</td>\n",
       "      <td>0.726891</td>\n",
       "    </tr>\n",
       "    <tr>\n",
       "      <th>3</th>\n",
       "      <td>0.273116</td>\n",
       "      <td>0.726884</td>\n",
       "    </tr>\n",
       "    <tr>\n",
       "      <th>4</th>\n",
       "      <td>0.273116</td>\n",
       "      <td>0.726884</td>\n",
       "    </tr>\n",
       "  </tbody>\n",
       "</table>\n",
       "</div>"
      ],
      "text/plain": [
       "          0         1\n",
       "0  0.273115  0.726886\n",
       "1  0.273105  0.726895\n",
       "2  0.273109  0.726891\n",
       "3  0.273116  0.726884\n",
       "4  0.273116  0.726884"
      ]
     },
     "execution_count": 137,
     "metadata": {},
     "output_type": "execute_result"
    },
    {
     "name": "stdout",
     "output_type": "stream",
     "text": [
      "time: 12.8 ms\n"
     ]
    }
   ],
   "source": [
    "predictions_prob.head()"
   ]
  },
  {
   "cell_type": "markdown",
   "metadata": {},
   "source": [
    "# Future approaches:\n",
    "\n",
    "include qualifying data"
   ]
  }
 ],
 "metadata": {
  "kernelspec": {
   "display_name": "Python 3",
   "language": "python",
   "name": "python3"
  },
  "language_info": {
   "codemirror_mode": {
    "name": "ipython",
    "version": 3
   },
   "file_extension": ".py",
   "mimetype": "text/x-python",
   "name": "python",
   "nbconvert_exporter": "python",
   "pygments_lexer": "ipython3",
   "version": "3.6.0"
  }
 },
 "nbformat": 4,
 "nbformat_minor": 2
}
