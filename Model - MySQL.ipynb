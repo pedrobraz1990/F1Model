{
 "cells": [
  {
   "cell_type": "code",
   "execution_count": 1,
   "metadata": {
    "collapsed": false
   },
   "outputs": [
    {
     "name": "stderr",
     "output_type": "stream",
     "text": [
      "Using TensorFlow backend.\n"
     ]
    }
   ],
   "source": [
    "%matplotlib inline\n",
    "\n",
    "import datetime as dt\n",
    "import numpy as np\n",
    "import pandas as pd\n",
    "\n",
    "import urllib.request\n",
    "import json\n",
    "\n",
    "from keras.models import Sequential\n",
    "from keras.layers.core import Dense, Activation\n",
    "from keras.utils import np_utils\n",
    "\n",
    "from DBManager import *\n",
    "\n",
    "import itertools\n",
    "\n",
    "\n",
    "%load_ext autotime\n",
    "%load_ext snakeviz"
   ]
  },
  {
   "cell_type": "markdown",
   "metadata": {},
   "source": [
    "## Data\n",
    "\n",
    "We are still usgin [ergast](http://ergast.com/mrd/db/) data but now we've downloaded the database image to MySQL.\n",
    "\n",
    "Before we build the interfacing class we will look at the features."
   ]
  },
  {
   "cell_type": "markdown",
   "metadata": {},
   "source": [
    "## Features\n",
    "\n",
    "As a starting point we'll use all features listed [here](http://www.f1-predictor.com/building-an-f1-prediction-engine-feature-engineering-part-ii/). We will choose a subset list, document it so that we have a feel of the type of data we'll need.\n",
    "\n",
    "\n",
    "**Driver Features**\n",
    "\n",
    "    Qualifying position\n",
    "    Driver name\n",
    "    Driver age at that time\n",
    "    Years in F1\n",
    "    Percentage difference in qualifying time from pole position * 100  (e.g. 102.3%)\n",
    "    Starts in front-row\n",
    "    Races won in career\n",
    "    Races won in season till that race\n",
    "    Races started\n",
    "    Races finished\n",
    "    Pole positions won\n",
    "    Drivers championships won\n",
    "    Driver championship classification last year\n",
    "    Drivers championship position this season\n",
    "    Max, min, avg positions gained/lost during last X races\n",
    "    Max, min, avg finishing position in the last X races\n",
    "    Correlation between qualifying and race results per driver\n",
    "    Previous race final position\n",
    "    Previous race qualifying position\n",
    "    Positions gained in previous race\n",
    "    Race and Qualifying position in same race last year\n",
    "    Positions gained in same race last year\n",
    "    Percentage difference from winner (in time) in the last race * 100  (e.g. 102.3%)\n",
    "    Number of pit-stops in same race last year\n",
    "    Avg lap-time excl. pit stops in last race\n",
    "    Avg lap-time consistency excl. pit stops in last race\n",
    "    Max/min/avg/std speed in previous race\n",
    "    Rank on avg/std of speed in previous race\n",
    "\n",
    "**Constructors Features**\n",
    "\n",
    "    Constructors name\n",
    "    Constructors championship won\n",
    "    Constructors races won\n",
    "    Constructors races won this that season\n",
    "    Constructors championship won in last X years\n",
    "    Constructors championship classification last year\n",
    "    Constructors championship position at the time\n",
    "    Max (Team-mate qualifying position, Driver qualifying position)\n",
    "    Max, min, avg positions gained/lost during last X races\n",
    "    Max, min, avg position in the last X races\n",
    "    Percentage difference in top-speed from top in last-race * 100 (e.g. 99.5%)\n",
    "    Times retired\n",
    "    Times retired in last X races\n",
    "    Max/min/avg speed in previous race\n",
    "    Rank on avg/std of speed in previous race\n",
    "\n",
    "** Other Features ** \n",
    "\n",
    "    Circuit name\n",
    "    Race rank in season (i.e. 1-21)\n",
    "    Year\n",
    "    Average overtakes per race\n",
    "    Correlation between race and qualifying results per circuit\n"
   ]
  },
  {
   "cell_type": "markdown",
   "metadata": {},
   "source": [
    "# Building the dataset\n",
    "\n",
    "We have to decide whether it shall be an overall comparison or a pairwise comparison. Pairs make sense but we need some way to ensemble them.\n",
    "\n",
    "We will have a dummy for driver #1 (all drivers) and then another set of dummies for driver #2\n",
    "\n",
    "A given observation is then given by:\n",
    "* A driver #1\n",
    "* A driver #2\n",
    "* A circuit\n",
    "* A year\n",
    "\n",
    "So for each circuit-year (race) I need to get all combinations of driver pairs\n",
    "\n",
    "First we need to get every circuit-year(race):"
   ]
  },
  {
   "cell_type": "code",
   "execution_count": 2,
   "metadata": {
    "collapsed": false
   },
   "outputs": [
    {
     "data": {
      "text/html": [
       "<div>\n",
       "<table border=\"1\" class=\"dataframe\">\n",
       "  <thead>\n",
       "    <tr style=\"text-align: right;\">\n",
       "      <th></th>\n",
       "      <th>year</th>\n",
       "      <th>circuitId</th>\n",
       "      <th>name</th>\n",
       "      <th>date</th>\n",
       "    </tr>\n",
       "    <tr>\n",
       "      <th>raceId</th>\n",
       "      <th></th>\n",
       "      <th></th>\n",
       "      <th></th>\n",
       "      <th></th>\n",
       "    </tr>\n",
       "  </thead>\n",
       "  <tbody>\n",
       "    <tr>\n",
       "      <th>1009</th>\n",
       "      <td>2018</td>\n",
       "      <td>24</td>\n",
       "      <td>Abu Dhabi Grand Prix</td>\n",
       "      <td>2018-11-25</td>\n",
       "    </tr>\n",
       "  </tbody>\n",
       "</table>\n",
       "</div>"
      ],
      "text/plain": [
       "        year  circuitId                  name        date\n",
       "raceId                                                   \n",
       "1009    2018         24  Abu Dhabi Grand Prix  2018-11-25"
      ]
     },
     "execution_count": 2,
     "metadata": {},
     "output_type": "execute_result"
    },
    {
     "name": "stdout",
     "output_type": "stream",
     "text": [
      "time: 158 ms\n"
     ]
    }
   ],
   "source": [
    "races = DBManager().getRaces()\n",
    "races.set_index('raceId',inplace=True)\n",
    "races.head(1)"
   ]
  },
  {
   "cell_type": "markdown",
   "metadata": {},
   "source": [
    "Now for each race we need to get all combinations of drivers. \n",
    "\n",
    "For each combination we add the circuit and the year as a feature.\n",
    "\n",
    "Next we need to add the other features. Most features will be in terms of differences.\n",
    "\n",
    "Lastly we need to add the result, 1 when Driver 1 wins and 0 when Driver 2 wins.\n",
    "\n",
    "We'll start loading some auxiliar tables so that querying is faster:"
   ]
  },
  {
   "cell_type": "code",
   "execution_count": 3,
   "metadata": {
    "collapsed": false
   },
   "outputs": [
    {
     "name": "stdout",
     "output_type": "stream",
     "text": [
      "time: 2.17 s\n"
     ]
    }
   ],
   "source": [
    "# to find years in F1 we need a driverID-results-race year table\n",
    "first_year = DBManager().getFirstYear_table()\n",
    "\n",
    "results_na = DBManager().getResults_table()\n",
    "results = results_na.copy().fillna(1000)\n",
    "\n",
    "qualifying_na = DBManager().getQualifying_table()\n",
    "qualifying = qualifying_na.copy()\n",
    "\n",
    "\n",
    "drivers_table = DBManager().getDrivers_table()\n",
    "\n",
    "races.sort_index(inplace=True)\n"
   ]
  },
  {
   "cell_type": "code",
   "execution_count": 4,
   "metadata": {
    "collapsed": false,
    "scrolled": true
   },
   "outputs": [
    {
     "name": "stdout",
     "output_type": "stream",
     "text": [
      "time: 9.13 ms\n"
     ]
    }
   ],
   "source": [
    "# # %%snakeviz\n",
    "\n",
    "# # Cut the sample\n",
    "# sieve = 2018\n",
    "# races.drop(races.index[races[\"year\"]>=2018],inplace=True)\n",
    "\n",
    "\n",
    "# data = []\n",
    "\n",
    "# # for i in range(120,150): #replace for in races.index\n",
    "# #     raceId = races.index[i]\n",
    "# for raceId in races.index:\n",
    "#     print(raceId)\n",
    "#     drivers = DBManager().getDriversFromRace(raceId = raceId)\n",
    "#     rows = pd.DataFrame(list(itertools.combinations(drivers['driverId'], 2)), columns = [\"driver1\",\"driver2\"])\n",
    "    \n",
    "#     #NonFeatures\n",
    "#     rows[\"raceId\"] = raceId\n",
    "#     rows[\"date\"] = races.loc[raceId][\"date\"]\n",
    "    \n",
    "#     #Features\n",
    "#     rows[\"year\"] = races.loc[raceId][\"year\"]\n",
    "#     rows[\"circuitId\"] = races.loc[raceId][\"circuitId\"]\n",
    "# #     rows[\"qualifying\"] = rows.apply(DBManager().getQualifyingFromPandas,axis=1)\n",
    "\n",
    "#     idx = pd.IndexSlice\n",
    "    \n",
    "#     if raceId in qualifying.index.get_level_values(0): #Many missing qualifyings, check \"missingQuali.sql MISSING TREATMENT\n",
    "#         rows[\"qualifying\"] = qualifying.loc[idx[raceId,rows[\"driver2\"].tolist()],:][\"position\"].reset_index(drop=True) - qualifying.loc[idx[raceId,rows[\"driver1\"].tolist()],:][\"position\"].reset_index(drop=True)\n",
    "#     else: \n",
    "#         rows[\"qualifying\"] = 0\n",
    "\n",
    "#     rows[\"driverAge\"] = (drivers_table.loc[rows[\"driver1\"]][\"dob\"].reset_index(drop=True)).sub(drivers_table.loc[rows[\"driver2\"]][\"dob\"].reset_index(drop=True)).dt.days/365\n",
    "#     rows[\"yearsF1\"] = - first_year.loc[rows[\"driver2\"]].reset_index(drop=True) + first_year.loc[rows[\"driver1\"]].reset_index(drop=True)\n",
    "    \n",
    "    \n",
    "#     #True Values\n",
    "#     rows[\"output_1\"] = rows.apply(lambda x: results.loc[x[\"raceId\"],x[\"driver2\"]][\"position\"].iloc[0] - results.loc[x[\"raceId\"],x[\"driver1\"]][\"position\"].iloc[0],axis=1)\n",
    "#     rows[\"output\"] = 0\n",
    "#     rows[\"output\"][rows[\"output_1\"]==0] = 0.5 # Both retired\n",
    "#     rows[\"output\"][rows[\"output_1\"]>0] = 1 # Driver 2 lost\n",
    "#     rows[\"output\"][rows[\"output_1\"]<0] = 0 # Driver 2 won\n",
    "    \n",
    "    \n",
    "#     data.append(rows)\n",
    "\n",
    "# dataset = pd.concat(data)\n",
    "# dataset.to_pickle('dataset.pkl')"
   ]
  },
  {
   "cell_type": "code",
   "execution_count": 8,
   "metadata": {
    "collapsed": false
   },
   "outputs": [
    {
     "name": "stdout",
     "output_type": "stream",
     "text": [
      "time: 1.84 ms\n"
     ]
    }
   ],
   "source": [
    "    feature_list = [\n",
    "        \"year\",\n",
    "        \"circuitId\",\n",
    "        \"qualifying\",\n",
    "        \"driverAge\",\n",
    "        \"yearsF1\",\n",
    "    ]"
   ]
  },
  {
   "cell_type": "code",
   "execution_count": 9,
   "metadata": {
    "collapsed": false
   },
   "outputs": [
    {
     "data": {
      "text/html": [
       "<div>\n",
       "<table border=\"1\" class=\"dataframe\">\n",
       "  <thead>\n",
       "    <tr style=\"text-align: right;\">\n",
       "      <th></th>\n",
       "      <th>driver1</th>\n",
       "      <th>driver2</th>\n",
       "      <th>raceId</th>\n",
       "      <th>date</th>\n",
       "      <th>year</th>\n",
       "      <th>circuitId</th>\n",
       "      <th>qualifying</th>\n",
       "      <th>driverAge</th>\n",
       "      <th>yearsF1</th>\n",
       "      <th>output_1</th>\n",
       "      <th>output</th>\n",
       "    </tr>\n",
       "  </thead>\n",
       "  <tbody>\n",
       "    <tr>\n",
       "      <th>0</th>\n",
       "      <td>1</td>\n",
       "      <td>2</td>\n",
       "      <td>1</td>\n",
       "      <td>2009-03-29</td>\n",
       "      <td>2009</td>\n",
       "      <td>1</td>\n",
       "      <td>-4.0</td>\n",
       "      <td>7.668493</td>\n",
       "      <td>7</td>\n",
       "      <td>-990.0</td>\n",
       "      <td>0.0</td>\n",
       "    </tr>\n",
       "    <tr>\n",
       "      <th>1</th>\n",
       "      <td>1</td>\n",
       "      <td>3</td>\n",
       "      <td>1</td>\n",
       "      <td>2009-03-29</td>\n",
       "      <td>2009</td>\n",
       "      <td>1</td>\n",
       "      <td>-6.0</td>\n",
       "      <td>-0.468493</td>\n",
       "      <td>1</td>\n",
       "      <td>-994.0</td>\n",
       "      <td>0.0</td>\n",
       "    </tr>\n",
       "    <tr>\n",
       "      <th>2</th>\n",
       "      <td>1</td>\n",
       "      <td>4</td>\n",
       "      <td>1</td>\n",
       "      <td>2009-03-29</td>\n",
       "      <td>2009</td>\n",
       "      <td>1</td>\n",
       "      <td>7.0</td>\n",
       "      <td>3.446575</td>\n",
       "      <td>6</td>\n",
       "      <td>-995.0</td>\n",
       "      <td>0.0</td>\n",
       "    </tr>\n",
       "    <tr>\n",
       "      <th>3</th>\n",
       "      <td>1</td>\n",
       "      <td>5</td>\n",
       "      <td>1</td>\n",
       "      <td>2009-03-29</td>\n",
       "      <td>2009</td>\n",
       "      <td>1</td>\n",
       "      <td>2.0</td>\n",
       "      <td>3.221918</td>\n",
       "      <td>0</td>\n",
       "      <td>0.0</td>\n",
       "      <td>0.5</td>\n",
       "    </tr>\n",
       "    <tr>\n",
       "      <th>4</th>\n",
       "      <td>1</td>\n",
       "      <td>6</td>\n",
       "      <td>1</td>\n",
       "      <td>2009-03-29</td>\n",
       "      <td>2009</td>\n",
       "      <td>1</td>\n",
       "      <td>-1.0</td>\n",
       "      <td>-0.010959</td>\n",
       "      <td>0</td>\n",
       "      <td>0.0</td>\n",
       "      <td>0.5</td>\n",
       "    </tr>\n",
       "  </tbody>\n",
       "</table>\n",
       "</div>"
      ],
      "text/plain": [
       "   driver1  driver2  raceId        date  year  circuitId  qualifying  \\\n",
       "0        1        2       1  2009-03-29  2009          1        -4.0   \n",
       "1        1        3       1  2009-03-29  2009          1        -6.0   \n",
       "2        1        4       1  2009-03-29  2009          1         7.0   \n",
       "3        1        5       1  2009-03-29  2009          1         2.0   \n",
       "4        1        6       1  2009-03-29  2009          1        -1.0   \n",
       "\n",
       "   driverAge  yearsF1  output_1  output  \n",
       "0   7.668493        7    -990.0     0.0  \n",
       "1  -0.468493        1    -994.0     0.0  \n",
       "2   3.446575        6    -995.0     0.0  \n",
       "3   3.221918        0       0.0     0.5  \n",
       "4  -0.010959        0       0.0     0.5  "
      ]
     },
     "execution_count": 9,
     "metadata": {},
     "output_type": "execute_result"
    },
    {
     "name": "stdout",
     "output_type": "stream",
     "text": [
      "time: 66.1 ms\n"
     ]
    }
   ],
   "source": [
    "dataset = pd.read_pickle('dataset.pkl')\n",
    "\n",
    "dataset.head()"
   ]
  },
  {
   "cell_type": "code",
   "execution_count": 10,
   "metadata": {
    "collapsed": false
   },
   "outputs": [
    {
     "name": "stdout",
     "output_type": "stream",
     "text": [
      "time: 6.52 ms\n"
     ]
    }
   ],
   "source": [
    "# Missing treatment\n",
    "dataset[\"qualifying\"] = dataset[\"qualifying\"].fillna(0)"
   ]
  },
  {
   "cell_type": "markdown",
   "metadata": {},
   "source": [
    "# Feedforward Neural Network"
   ]
  },
  {
   "cell_type": "code",
   "execution_count": 11,
   "metadata": {
    "collapsed": false
   },
   "outputs": [
    {
     "name": "stdout",
     "output_type": "stream",
     "text": [
      "time: 62.2 ms\n"
     ]
    }
   ],
   "source": [
    "xcols = feature_list\n",
    "\n",
    "ycols = [\n",
    "    \"output\",\n",
    "]\n",
    "\n",
    "model_xdata = dataset[xcols].copy()\n",
    "model_ydata = dataset[ycols].copy()"
   ]
  },
  {
   "cell_type": "code",
   "execution_count": 12,
   "metadata": {
    "collapsed": false
   },
   "outputs": [
    {
     "name": "stdout",
     "output_type": "stream",
     "text": [
      "time: 527 ms\n"
     ]
    }
   ],
   "source": [
    "training_sieve = 2015\n",
    "\n",
    "dummies_list = [\n",
    "    \"year\",\n",
    "    \"circuitId\"\n",
    "]\n",
    "\n",
    "\n",
    "model_data_dummies = pd.get_dummies(model_xdata,columns = dummies_list)\n",
    "model_data_dummiesy = pd.get_dummies(model_ydata, columns = [\"output\"])\n",
    "\n",
    "training_datax = model_data_dummies.loc[model_xdata[\"year\"] <= training_sieve]\n",
    "test_datax = model_data_dummies.loc[model_xdata[\"year\"] > training_sieve]\n",
    "\n",
    "training_datay = model_data_dummiesy.loc[model_xdata[\"year\"] <= training_sieve]\n",
    "test_datay = model_data_dummiesy.loc[model_xdata[\"year\"] > training_sieve]\n",
    "\n",
    "\n",
    "\n",
    "X_training = training_datax\n",
    "X_test = test_datax\n",
    "\n",
    "\n",
    "y_training = training_datay\n",
    "y_test = test_datay"
   ]
  },
  {
   "cell_type": "code",
   "execution_count": 13,
   "metadata": {
    "collapsed": false
   },
   "outputs": [
    {
     "data": {
      "text/plain": [
       "(280999, 143)"
      ]
     },
     "execution_count": 13,
     "metadata": {},
     "output_type": "execute_result"
    },
    {
     "name": "stdout",
     "output_type": "stream",
     "text": [
      "time: 5.17 ms\n"
     ]
    }
   ],
   "source": [
    "X_training.shape"
   ]
  },
  {
   "cell_type": "code",
   "execution_count": 14,
   "metadata": {
    "collapsed": false
   },
   "outputs": [
    {
     "data": {
      "text/plain": [
       "(8651, 143)"
      ]
     },
     "execution_count": 14,
     "metadata": {},
     "output_type": "execute_result"
    },
    {
     "name": "stdout",
     "output_type": "stream",
     "text": [
      "time: 8.09 ms\n"
     ]
    }
   ],
   "source": [
    "X_test.shape"
   ]
  },
  {
   "cell_type": "code",
   "execution_count": 15,
   "metadata": {
    "collapsed": false
   },
   "outputs": [
    {
     "data": {
      "text/plain": [
       "(280999, 3)"
      ]
     },
     "execution_count": 15,
     "metadata": {},
     "output_type": "execute_result"
    },
    {
     "name": "stdout",
     "output_type": "stream",
     "text": [
      "time: 4.43 ms\n"
     ]
    }
   ],
   "source": [
    "y_training.shape"
   ]
  },
  {
   "cell_type": "code",
   "execution_count": 40,
   "metadata": {
    "collapsed": false
   },
   "outputs": [
    {
     "name": "stdout",
     "output_type": "stream",
     "text": [
      "time: 116 ms\n"
     ]
    }
   ],
   "source": [
    "model = Sequential()\n",
    "\n",
    "# input should have 143\n",
    "model.add(Dense(512, input_shape=(143,)))\n",
    "model.add(Activation('sigmoid'))\n",
    "\n",
    "model.add(Dense(512))\n",
    "model.add(Activation('sigmoid'))\n",
    "\n",
    "# output should have 10 (0-9)\n",
    "model.add(Dense(3))\n",
    "model.add(Activation('softmax'))\n",
    "\n",
    "model.compile(optimizer='adam', loss='categorical_crossentropy', metrics=[\"accuracy\"])"
   ]
  },
  {
   "cell_type": "code",
   "execution_count": 41,
   "metadata": {
    "collapsed": false
   },
   "outputs": [
    {
     "name": "stdout",
     "output_type": "stream",
     "text": [
      "time: 4min 7s\n"
     ]
    }
   ],
   "source": [
    "model.fit(X_training, y_training, epochs=5, batch_size=25000, verbose=0);"
   ]
  },
  {
   "cell_type": "code",
   "execution_count": 42,
   "metadata": {
    "collapsed": false
   },
   "outputs": [
    {
     "name": "stdout",
     "output_type": "stream",
     "text": [
      "Accuracy = 0.6107\n",
      "time: 1.21 s\n"
     ]
    }
   ],
   "source": [
    "loss, accuracy = model.evaluate(X_test, y_test, verbose=0)\n",
    "print(\"Accuracy = {:.4f}\".format(accuracy))"
   ]
  },
  {
   "cell_type": "markdown",
   "metadata": {},
   "source": [
    "# Future Research\n",
    "\n",
    "* Add the other features\n",
    "\n",
    "* When enconding the output of a pair in race we opted to send retired racers to the back of the line. Alternatively we could discard results in which a racer retires.\n",
    "\n",
    "* Check NaN treatment"
   ]
  }
 ],
 "metadata": {
  "kernelspec": {
   "display_name": "Python 3",
   "language": "python",
   "name": "python3"
  },
  "language_info": {
   "codemirror_mode": {
    "name": "ipython",
    "version": 3
   },
   "file_extension": ".py",
   "mimetype": "text/x-python",
   "name": "python",
   "nbconvert_exporter": "python",
   "pygments_lexer": "ipython3",
   "version": "3.6.0"
  }
 },
 "nbformat": 4,
 "nbformat_minor": 2
}
